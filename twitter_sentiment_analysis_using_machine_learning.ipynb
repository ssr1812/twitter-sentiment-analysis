{
  "cells": [
    {
      "cell_type": "code",
      "execution_count": null,
      "id": "edc131d1",
      "metadata": {
        "_cell_guid": "b1076dfc-b9ad-4769-8c92-a6c4dae69d19",
        "_uuid": "8f2839f25d086af736a60e9eeb907d3b93b6e0e5",
        "execution": {
          "iopub.execute_input": "2024-04-27T19:01:48.399915Z",
          "iopub.status.busy": "2024-04-27T19:01:48.399528Z",
          "iopub.status.idle": "2024-04-27T19:01:49.139200Z",
          "shell.execute_reply": "2024-04-27T19:01:49.138167Z"
        },
        "papermill": {
          "duration": 0.753628,
          "end_time": "2024-04-27T19:01:49.141486",
          "exception": false,
          "start_time": "2024-04-27T19:01:48.387858",
          "status": "completed"
        },
        "tags": [],
        "id": "edc131d1",
        "outputId": "7cd1d9c8-6acf-4932-d5bf-04051868c57f"
      },
      "outputs": [
        {
          "name": "stdout",
          "output_type": "stream",
          "text": [
            "/kaggle/input/twitter-entity-sentiment-analysis/twitter_validation.csv\n",
            "/kaggle/input/twitter-entity-sentiment-analysis/twitter_training.csv\n"
          ]
        }
      ],
      "source": [
        "import numpy as np\n",
        "import pandas as pd\n",
        "import os\n",
        "for dirname, _, filenames in os.walk('/kaggle/input'):\n",
        "    for filename in filenames:\n",
        "        print(os.path.join(dirname, filename))\n"
      ]
    },
    {
      "cell_type": "code",
      "execution_count": null,
      "id": "b166bca1",
      "metadata": {
        "execution": {
          "iopub.execute_input": "2024-04-27T19:01:49.156577Z",
          "iopub.status.busy": "2024-04-27T19:01:49.156206Z",
          "iopub.status.idle": "2024-04-27T19:01:57.522660Z",
          "shell.execute_reply": "2024-04-27T19:01:57.521707Z"
        },
        "papermill": {
          "duration": 8.376652,
          "end_time": "2024-04-27T19:01:57.525112",
          "exception": false,
          "start_time": "2024-04-27T19:01:49.148460",
          "status": "completed"
        },
        "tags": [],
        "id": "b166bca1"
      },
      "outputs": [],
      "source": [
        "import re\n",
        "import spacy\n",
        "import nltk\n",
        "from nltk.corpus import stopwords\n",
        "from nltk.stem import PorterStemmer, WordNetLemmatizer\n",
        "from sklearn.feature_extraction.text import TfidfVectorizer\n",
        "from sklearn.model_selection import train_test_split\n",
        "from sklearn.linear_model import LogisticRegression\n",
        "from sklearn.metrics import accuracy_score"
      ]
    },
    {
      "cell_type": "code",
      "execution_count": null,
      "id": "92343a0b",
      "metadata": {
        "execution": {
          "iopub.execute_input": "2024-04-27T19:01:57.540375Z",
          "iopub.status.busy": "2024-04-27T19:01:57.539632Z",
          "iopub.status.idle": "2024-04-27T19:01:57.549068Z",
          "shell.execute_reply": "2024-04-27T19:01:57.547995Z"
        },
        "papermill": {
          "duration": 0.019027,
          "end_time": "2024-04-27T19:01:57.551154",
          "exception": false,
          "start_time": "2024-04-27T19:01:57.532127",
          "status": "completed"
        },
        "tags": [],
        "id": "92343a0b",
        "outputId": "dac847f2-93a3-4738-ca56-31f6cea97c07"
      },
      "outputs": [
        {
          "name": "stdout",
          "output_type": "stream",
          "text": [
            "['i', 'me', 'my', 'myself', 'we', 'our', 'ours', 'ourselves', 'you', \"you're\", \"you've\", \"you'll\", \"you'd\", 'your', 'yours', 'yourself', 'yourselves', 'he', 'him', 'his', 'himself', 'she', \"she's\", 'her', 'hers', 'herself', 'it', \"it's\", 'its', 'itself', 'they', 'them', 'their', 'theirs', 'themselves', 'what', 'which', 'who', 'whom', 'this', 'that', \"that'll\", 'these', 'those', 'am', 'is', 'are', 'was', 'were', 'be', 'been', 'being', 'have', 'has', 'had', 'having', 'do', 'does', 'did', 'doing', 'a', 'an', 'the', 'and', 'but', 'if', 'or', 'because', 'as', 'until', 'while', 'of', 'at', 'by', 'for', 'with', 'about', 'against', 'between', 'into', 'through', 'during', 'before', 'after', 'above', 'below', 'to', 'from', 'up', 'down', 'in', 'out', 'on', 'off', 'over', 'under', 'again', 'further', 'then', 'once', 'here', 'there', 'when', 'where', 'why', 'how', 'all', 'any', 'both', 'each', 'few', 'more', 'most', 'other', 'some', 'such', 'no', 'nor', 'not', 'only', 'own', 'same', 'so', 'than', 'too', 'very', 's', 't', 'can', 'will', 'just', 'don', \"don't\", 'should', \"should've\", 'now', 'd', 'll', 'm', 'o', 're', 've', 'y', 'ain', 'aren', \"aren't\", 'couldn', \"couldn't\", 'didn', \"didn't\", 'doesn', \"doesn't\", 'hadn', \"hadn't\", 'hasn', \"hasn't\", 'haven', \"haven't\", 'isn', \"isn't\", 'ma', 'mightn', \"mightn't\", 'mustn', \"mustn't\", 'needn', \"needn't\", 'shan', \"shan't\", 'shouldn', \"shouldn't\", 'wasn', \"wasn't\", 'weren', \"weren't\", 'won', \"won't\", 'wouldn', \"wouldn't\"]\n"
          ]
        }
      ],
      "source": [
        "print(stopwords.words('english'))\n",
        "l=stopwords.words('english')"
      ]
    },
    {
      "cell_type": "code",
      "execution_count": null,
      "id": "1faec7e1",
      "metadata": {
        "execution": {
          "iopub.execute_input": "2024-04-27T19:01:57.566086Z",
          "iopub.status.busy": "2024-04-27T19:01:57.565605Z",
          "iopub.status.idle": "2024-04-27T19:01:57.875928Z",
          "shell.execute_reply": "2024-04-27T19:01:57.874913Z"
        },
        "papermill": {
          "duration": 0.320708,
          "end_time": "2024-04-27T19:01:57.878633",
          "exception": false,
          "start_time": "2024-04-27T19:01:57.557925",
          "status": "completed"
        },
        "tags": [],
        "id": "1faec7e1"
      },
      "outputs": [],
      "source": [
        "data_train=pd.read_csv('/content/twitter_training.csv')\n",
        "data_test=pd.read_csv('/content/twitter_validation.csv')"
      ]
    },
    {
      "cell_type": "code",
      "execution_count": null,
      "id": "6d690ddc",
      "metadata": {
        "execution": {
          "iopub.execute_input": "2024-04-27T19:01:57.894482Z",
          "iopub.status.busy": "2024-04-27T19:01:57.893793Z",
          "iopub.status.idle": "2024-04-27T19:01:57.900607Z",
          "shell.execute_reply": "2024-04-27T19:01:57.899801Z"
        },
        "papermill": {
          "duration": 0.016802,
          "end_time": "2024-04-27T19:01:57.902611",
          "exception": false,
          "start_time": "2024-04-27T19:01:57.885809",
          "status": "completed"
        },
        "tags": [],
        "id": "6d690ddc",
        "outputId": "d81463b4-2bc7-44f7-d9d7-77434a995864"
      },
      "outputs": [
        {
          "data": {
            "text/plain": [
              "(74681, 4)"
            ]
          },
          "execution_count": 5,
          "metadata": {},
          "output_type": "execute_result"
        }
      ],
      "source": [
        "data_train.head()\n",
        "data_train.shape"
      ]
    },
    {
      "cell_type": "code",
      "execution_count": null,
      "id": "06c50247",
      "metadata": {
        "execution": {
          "iopub.execute_input": "2024-04-27T19:01:57.917397Z",
          "iopub.status.busy": "2024-04-27T19:01:57.917131Z",
          "iopub.status.idle": "2024-04-27T19:01:57.934562Z",
          "shell.execute_reply": "2024-04-27T19:01:57.933696Z"
        },
        "papermill": {
          "duration": 0.026892,
          "end_time": "2024-04-27T19:01:57.936391",
          "exception": false,
          "start_time": "2024-04-27T19:01:57.909499",
          "status": "completed"
        },
        "tags": [],
        "id": "06c50247",
        "outputId": "e4502348-2c3e-410c-8042-08618636452f"
      },
      "outputs": [
        {
          "data": {
            "text/html": [
              "<div>\n",
              "<style scoped>\n",
              "    .dataframe tbody tr th:only-of-type {\n",
              "        vertical-align: middle;\n",
              "    }\n",
              "\n",
              "    .dataframe tbody tr th {\n",
              "        vertical-align: top;\n",
              "    }\n",
              "\n",
              "    .dataframe thead th {\n",
              "        text-align: right;\n",
              "    }\n",
              "</style>\n",
              "<table border=\"1\" class=\"dataframe\">\n",
              "  <thead>\n",
              "    <tr style=\"text-align: right;\">\n",
              "      <th></th>\n",
              "      <th>Tweet ID</th>\n",
              "      <th>entity</th>\n",
              "      <th>target</th>\n",
              "      <th>Tweet</th>\n",
              "    </tr>\n",
              "  </thead>\n",
              "  <tbody>\n",
              "    <tr>\n",
              "      <th>0</th>\n",
              "      <td>2401</td>\n",
              "      <td>Borderlands</td>\n",
              "      <td>Positive</td>\n",
              "      <td>I am coming to the borders and I will kill you...</td>\n",
              "    </tr>\n",
              "    <tr>\n",
              "      <th>1</th>\n",
              "      <td>2401</td>\n",
              "      <td>Borderlands</td>\n",
              "      <td>Positive</td>\n",
              "      <td>im getting on borderlands and i will kill you ...</td>\n",
              "    </tr>\n",
              "    <tr>\n",
              "      <th>2</th>\n",
              "      <td>2401</td>\n",
              "      <td>Borderlands</td>\n",
              "      <td>Positive</td>\n",
              "      <td>im coming on borderlands and i will murder you...</td>\n",
              "    </tr>\n",
              "    <tr>\n",
              "      <th>3</th>\n",
              "      <td>2401</td>\n",
              "      <td>Borderlands</td>\n",
              "      <td>Positive</td>\n",
              "      <td>im getting on borderlands 2 and i will murder ...</td>\n",
              "    </tr>\n",
              "    <tr>\n",
              "      <th>4</th>\n",
              "      <td>2401</td>\n",
              "      <td>Borderlands</td>\n",
              "      <td>Positive</td>\n",
              "      <td>im getting into borderlands and i can murder y...</td>\n",
              "    </tr>\n",
              "  </tbody>\n",
              "</table>\n",
              "</div>"
            ],
            "text/plain": [
              "   Tweet ID       entity    target  \\\n",
              "0      2401  Borderlands  Positive   \n",
              "1      2401  Borderlands  Positive   \n",
              "2      2401  Borderlands  Positive   \n",
              "3      2401  Borderlands  Positive   \n",
              "4      2401  Borderlands  Positive   \n",
              "\n",
              "                                               Tweet  \n",
              "0  I am coming to the borders and I will kill you...  \n",
              "1  im getting on borderlands and i will kill you ...  \n",
              "2  im coming on borderlands and i will murder you...  \n",
              "3  im getting on borderlands 2 and i will murder ...  \n",
              "4  im getting into borderlands and i can murder y...  "
            ]
          },
          "execution_count": 6,
          "metadata": {},
          "output_type": "execute_result"
        }
      ],
      "source": [
        "col=['Tweet ID',\n",
        "'entity',\n",
        "'target',\n",
        "'Tweet']\n",
        "data_train.columns =col\n",
        "data_train.head()"
      ]
    },
    {
      "cell_type": "code",
      "execution_count": null,
      "id": "b88171d6",
      "metadata": {
        "execution": {
          "iopub.execute_input": "2024-04-27T19:01:57.951910Z",
          "iopub.status.busy": "2024-04-27T19:01:57.951428Z",
          "iopub.status.idle": "2024-04-27T19:01:57.995931Z",
          "shell.execute_reply": "2024-04-27T19:01:57.994969Z"
        },
        "papermill": {
          "duration": 0.05428,
          "end_time": "2024-04-27T19:01:57.997867",
          "exception": false,
          "start_time": "2024-04-27T19:01:57.943587",
          "status": "completed"
        },
        "tags": [],
        "id": "b88171d6",
        "outputId": "9996527b-539d-42db-f79a-1bb6b53f7259"
      },
      "outputs": [
        {
          "name": "stdout",
          "output_type": "stream",
          "text": [
            "<class 'pandas.core.frame.DataFrame'>\n",
            "RangeIndex: 74681 entries, 0 to 74680\n",
            "Data columns (total 4 columns):\n",
            " #   Column    Non-Null Count  Dtype \n",
            "---  ------    --------------  ----- \n",
            " 0   Tweet ID  74681 non-null  int64 \n",
            " 1   entity    74681 non-null  object\n",
            " 2   target    74681 non-null  object\n",
            " 3   Tweet     73995 non-null  object\n",
            "dtypes: int64(1), object(3)\n",
            "memory usage: 2.3+ MB\n"
          ]
        }
      ],
      "source": [
        "df=pd.DataFrame(data_train)\n",
        "df.head()\n",
        "df.info()"
      ]
    },
    {
      "cell_type": "code",
      "execution_count": null,
      "id": "7a468c45",
      "metadata": {
        "execution": {
          "iopub.execute_input": "2024-04-27T19:01:58.014278Z",
          "iopub.status.busy": "2024-04-27T19:01:58.013746Z",
          "iopub.status.idle": "2024-04-27T19:01:58.068991Z",
          "shell.execute_reply": "2024-04-27T19:01:58.067919Z"
        },
        "papermill": {
          "duration": 0.066012,
          "end_time": "2024-04-27T19:01:58.071137",
          "exception": false,
          "start_time": "2024-04-27T19:01:58.005125",
          "status": "completed"
        },
        "tags": [],
        "id": "7a468c45"
      },
      "outputs": [],
      "source": [
        "df=df[df['Tweet'].str.len()!=0]\n"
      ]
    },
    {
      "cell_type": "code",
      "execution_count": null,
      "id": "2f387ee8",
      "metadata": {
        "execution": {
          "iopub.execute_input": "2024-04-27T19:01:58.087535Z",
          "iopub.status.busy": "2024-04-27T19:01:58.086842Z",
          "iopub.status.idle": "2024-04-27T19:01:58.151563Z",
          "shell.execute_reply": "2024-04-27T19:01:58.150654Z"
        },
        "papermill": {
          "duration": 0.075098,
          "end_time": "2024-04-27T19:01:58.153650",
          "exception": false,
          "start_time": "2024-04-27T19:01:58.078552",
          "status": "completed"
        },
        "tags": [],
        "id": "2f387ee8",
        "outputId": "23a2cdc8-4202-4d20-d7c3-686288d318c8"
      },
      "outputs": [
        {
          "name": "stdout",
          "output_type": "stream",
          "text": [
            "0        i am coming to the borders and i will kill you...\n",
            "1        im getting on borderlands and i will kill you ...\n",
            "2        im coming on borderlands and i will murder you...\n",
            "3        im getting on borderlands 2 and i will murder ...\n",
            "4        im getting into borderlands and i can murder y...\n",
            "                               ...                        \n",
            "74676    just realized that the windows partition of my...\n",
            "74677    just realized that my mac window partition is ...\n",
            "74678    just realized the windows partition of my mac ...\n",
            "74679    just realized between the windows partition of...\n",
            "74680    just like the windows partition of my mac is l...\n",
            "Name: Tweet, Length: 74681, dtype: object\n"
          ]
        },
        {
          "data": {
            "text/html": [
              "<div>\n",
              "<style scoped>\n",
              "    .dataframe tbody tr th:only-of-type {\n",
              "        vertical-align: middle;\n",
              "    }\n",
              "\n",
              "    .dataframe tbody tr th {\n",
              "        vertical-align: top;\n",
              "    }\n",
              "\n",
              "    .dataframe thead th {\n",
              "        text-align: right;\n",
              "    }\n",
              "</style>\n",
              "<table border=\"1\" class=\"dataframe\">\n",
              "  <thead>\n",
              "    <tr style=\"text-align: right;\">\n",
              "      <th></th>\n",
              "      <th>Tweet ID</th>\n",
              "      <th>entity</th>\n",
              "      <th>target</th>\n",
              "      <th>Tweet</th>\n",
              "    </tr>\n",
              "  </thead>\n",
              "  <tbody>\n",
              "    <tr>\n",
              "      <th>0</th>\n",
              "      <td>2401</td>\n",
              "      <td>Borderlands</td>\n",
              "      <td>Positive</td>\n",
              "      <td>i am coming to the borders and i will kill you...</td>\n",
              "    </tr>\n",
              "    <tr>\n",
              "      <th>1</th>\n",
              "      <td>2401</td>\n",
              "      <td>Borderlands</td>\n",
              "      <td>Positive</td>\n",
              "      <td>im getting on borderlands and i will kill you ...</td>\n",
              "    </tr>\n",
              "    <tr>\n",
              "      <th>2</th>\n",
              "      <td>2401</td>\n",
              "      <td>Borderlands</td>\n",
              "      <td>Positive</td>\n",
              "      <td>im coming on borderlands and i will murder you...</td>\n",
              "    </tr>\n",
              "    <tr>\n",
              "      <th>3</th>\n",
              "      <td>2401</td>\n",
              "      <td>Borderlands</td>\n",
              "      <td>Positive</td>\n",
              "      <td>im getting on borderlands 2 and i will murder ...</td>\n",
              "    </tr>\n",
              "    <tr>\n",
              "      <th>4</th>\n",
              "      <td>2401</td>\n",
              "      <td>Borderlands</td>\n",
              "      <td>Positive</td>\n",
              "      <td>im getting into borderlands and i can murder y...</td>\n",
              "    </tr>\n",
              "  </tbody>\n",
              "</table>\n",
              "</div>"
            ],
            "text/plain": [
              "   Tweet ID       entity    target  \\\n",
              "0      2401  Borderlands  Positive   \n",
              "1      2401  Borderlands  Positive   \n",
              "2      2401  Borderlands  Positive   \n",
              "3      2401  Borderlands  Positive   \n",
              "4      2401  Borderlands  Positive   \n",
              "\n",
              "                                               Tweet  \n",
              "0  i am coming to the borders and i will kill you...  \n",
              "1  im getting on borderlands and i will kill you ...  \n",
              "2  im coming on borderlands and i will murder you...  \n",
              "3  im getting on borderlands 2 and i will murder ...  \n",
              "4  im getting into borderlands and i can murder y...  "
            ]
          },
          "execution_count": 9,
          "metadata": {},
          "output_type": "execute_result"
        }
      ],
      "source": [
        "df['Tweet'] = df['Tweet'].astype(str)\n",
        "df['Tweet'] = df['Tweet'].str.lower()\n",
        "print(df['Tweet'])\n",
        "df.head()"
      ]
    },
    {
      "cell_type": "code",
      "execution_count": null,
      "id": "a8827dda",
      "metadata": {
        "execution": {
          "iopub.execute_input": "2024-04-27T19:01:58.170416Z",
          "iopub.status.busy": "2024-04-27T19:01:58.170117Z",
          "iopub.status.idle": "2024-04-27T19:01:59.341959Z",
          "shell.execute_reply": "2024-04-27T19:01:59.341154Z"
        },
        "papermill": {
          "duration": 1.182503,
          "end_time": "2024-04-27T19:01:59.344123",
          "exception": false,
          "start_time": "2024-04-27T19:01:58.161620",
          "status": "completed"
        },
        "tags": [],
        "id": "a8827dda"
      },
      "outputs": [],
      "source": [
        "nlp=spacy.load(\"en_core_web_sm\")\n",
        "def preprocess(text):\n",
        "    doc=nlp(text)\n",
        "    new_text=[]\n",
        "    for word in doc:\n",
        "        if word.is_stop or word.is_punct or word.text==\"im\":\n",
        "            continue\n",
        "        new_text.append(word.lemma_)\n",
        "    return \" \".join(new_text)"
      ]
    },
    {
      "cell_type": "code",
      "execution_count": null,
      "id": "8a6c436d",
      "metadata": {
        "execution": {
          "iopub.execute_input": "2024-04-27T19:01:59.360916Z",
          "iopub.status.busy": "2024-04-27T19:01:59.360601Z",
          "iopub.status.idle": "2024-04-27T19:01:59.376595Z",
          "shell.execute_reply": "2024-04-27T19:01:59.375797Z"
        },
        "papermill": {
          "duration": 0.026491,
          "end_time": "2024-04-27T19:01:59.378485",
          "exception": false,
          "start_time": "2024-04-27T19:01:59.351994",
          "status": "completed"
        },
        "tags": [],
        "id": "8a6c436d",
        "outputId": "e79c1dcd-de66-4c6a-eb39-16e06d42e839"
      },
      "outputs": [
        {
          "data": {
            "text/plain": [
              "target\n",
              "Negative      22542\n",
              "Positive      20831\n",
              "Neutral       18318\n",
              "Irrelevant    12990\n",
              "Name: count, dtype: int64"
            ]
          },
          "execution_count": 11,
          "metadata": {},
          "output_type": "execute_result"
        }
      ],
      "source": [
        "df['target'].value_counts()"
      ]
    },
    {
      "cell_type": "code",
      "execution_count": null,
      "id": "6d16c5a5",
      "metadata": {
        "execution": {
          "iopub.execute_input": "2024-04-27T19:01:59.395982Z",
          "iopub.status.busy": "2024-04-27T19:01:59.395319Z",
          "iopub.status.idle": "2024-04-27T19:11:25.310630Z",
          "shell.execute_reply": "2024-04-27T19:11:25.309797Z"
        },
        "papermill": {
          "duration": 565.934025,
          "end_time": "2024-04-27T19:11:25.320986",
          "exception": false,
          "start_time": "2024-04-27T19:01:59.386961",
          "status": "completed"
        },
        "tags": [],
        "id": "6d16c5a5",
        "outputId": "20c0d070-7b93-4c35-85ff-5bb6e2d71576"
      },
      "outputs": [
        {
          "data": {
            "text/html": [
              "<div>\n",
              "<style scoped>\n",
              "    .dataframe tbody tr th:only-of-type {\n",
              "        vertical-align: middle;\n",
              "    }\n",
              "\n",
              "    .dataframe tbody tr th {\n",
              "        vertical-align: top;\n",
              "    }\n",
              "\n",
              "    .dataframe thead th {\n",
              "        text-align: right;\n",
              "    }\n",
              "</style>\n",
              "<table border=\"1\" class=\"dataframe\">\n",
              "  <thead>\n",
              "    <tr style=\"text-align: right;\">\n",
              "      <th></th>\n",
              "      <th>Tweet ID</th>\n",
              "      <th>entity</th>\n",
              "      <th>target</th>\n",
              "      <th>Tweet</th>\n",
              "      <th>stemmed_content</th>\n",
              "    </tr>\n",
              "  </thead>\n",
              "  <tbody>\n",
              "    <tr>\n",
              "      <th>0</th>\n",
              "      <td>2401</td>\n",
              "      <td>Borderlands</td>\n",
              "      <td>Positive</td>\n",
              "      <td>i am coming to the borders and i will kill you...</td>\n",
              "      <td>come border kill</td>\n",
              "    </tr>\n",
              "    <tr>\n",
              "      <th>1</th>\n",
              "      <td>2401</td>\n",
              "      <td>Borderlands</td>\n",
              "      <td>Positive</td>\n",
              "      <td>im getting on borderlands and i will kill you ...</td>\n",
              "      <td>m get borderland kill</td>\n",
              "    </tr>\n",
              "    <tr>\n",
              "      <th>2</th>\n",
              "      <td>2401</td>\n",
              "      <td>Borderlands</td>\n",
              "      <td>Positive</td>\n",
              "      <td>im coming on borderlands and i will murder you...</td>\n",
              "      <td>m come borderland murder</td>\n",
              "    </tr>\n",
              "    <tr>\n",
              "      <th>3</th>\n",
              "      <td>2401</td>\n",
              "      <td>Borderlands</td>\n",
              "      <td>Positive</td>\n",
              "      <td>im getting on borderlands 2 and i will murder ...</td>\n",
              "      <td>m get borderland 2 murder</td>\n",
              "    </tr>\n",
              "    <tr>\n",
              "      <th>4</th>\n",
              "      <td>2401</td>\n",
              "      <td>Borderlands</td>\n",
              "      <td>Positive</td>\n",
              "      <td>im getting into borderlands and i can murder y...</td>\n",
              "      <td>m get borderland murder</td>\n",
              "    </tr>\n",
              "  </tbody>\n",
              "</table>\n",
              "</div>"
            ],
            "text/plain": [
              "   Tweet ID       entity    target  \\\n",
              "0      2401  Borderlands  Positive   \n",
              "1      2401  Borderlands  Positive   \n",
              "2      2401  Borderlands  Positive   \n",
              "3      2401  Borderlands  Positive   \n",
              "4      2401  Borderlands  Positive   \n",
              "\n",
              "                                               Tweet  \\\n",
              "0  i am coming to the borders and i will kill you...   \n",
              "1  im getting on borderlands and i will kill you ...   \n",
              "2  im coming on borderlands and i will murder you...   \n",
              "3  im getting on borderlands 2 and i will murder ...   \n",
              "4  im getting into borderlands and i can murder y...   \n",
              "\n",
              "             stemmed_content  \n",
              "0           come border kill  \n",
              "1      m get borderland kill  \n",
              "2   m come borderland murder  \n",
              "3  m get borderland 2 murder  \n",
              "4    m get borderland murder  "
            ]
          },
          "execution_count": 12,
          "metadata": {},
          "output_type": "execute_result"
        }
      ],
      "source": [
        "df['stemmed_content']=df['Tweet'].apply(preprocess)\n",
        "df.head()\n"
      ]
    },
    {
      "cell_type": "code",
      "execution_count": null,
      "id": "ae0cc0de",
      "metadata": {
        "execution": {
          "iopub.execute_input": "2024-04-27T19:11:25.337961Z",
          "iopub.status.busy": "2024-04-27T19:11:25.337634Z",
          "iopub.status.idle": "2024-04-27T19:11:25.365606Z",
          "shell.execute_reply": "2024-04-27T19:11:25.364799Z"
        },
        "papermill": {
          "duration": 0.038609,
          "end_time": "2024-04-27T19:11:25.367519",
          "exception": false,
          "start_time": "2024-04-27T19:11:25.328910",
          "status": "completed"
        },
        "tags": [],
        "id": "ae0cc0de",
        "outputId": "2592f4b2-57c3-4484-aa6e-bbbc97a2f528"
      },
      "outputs": [
        {
          "data": {
            "text/html": [
              "<div>\n",
              "<style scoped>\n",
              "    .dataframe tbody tr th:only-of-type {\n",
              "        vertical-align: middle;\n",
              "    }\n",
              "\n",
              "    .dataframe tbody tr th {\n",
              "        vertical-align: top;\n",
              "    }\n",
              "\n",
              "    .dataframe thead th {\n",
              "        text-align: right;\n",
              "    }\n",
              "</style>\n",
              "<table border=\"1\" class=\"dataframe\">\n",
              "  <thead>\n",
              "    <tr style=\"text-align: right;\">\n",
              "      <th></th>\n",
              "      <th>Tweet ID</th>\n",
              "      <th>entity</th>\n",
              "      <th>target</th>\n",
              "      <th>Tweet</th>\n",
              "      <th>stemmed_content</th>\n",
              "    </tr>\n",
              "  </thead>\n",
              "  <tbody>\n",
              "    <tr>\n",
              "      <th>0</th>\n",
              "      <td>2401</td>\n",
              "      <td>Borderlands</td>\n",
              "      <td>3</td>\n",
              "      <td>i am coming to the borders and i will kill you...</td>\n",
              "      <td>come border kill</td>\n",
              "    </tr>\n",
              "    <tr>\n",
              "      <th>1</th>\n",
              "      <td>2401</td>\n",
              "      <td>Borderlands</td>\n",
              "      <td>3</td>\n",
              "      <td>im getting on borderlands and i will kill you ...</td>\n",
              "      <td>m get borderland kill</td>\n",
              "    </tr>\n",
              "    <tr>\n",
              "      <th>2</th>\n",
              "      <td>2401</td>\n",
              "      <td>Borderlands</td>\n",
              "      <td>3</td>\n",
              "      <td>im coming on borderlands and i will murder you...</td>\n",
              "      <td>m come borderland murder</td>\n",
              "    </tr>\n",
              "    <tr>\n",
              "      <th>3</th>\n",
              "      <td>2401</td>\n",
              "      <td>Borderlands</td>\n",
              "      <td>3</td>\n",
              "      <td>im getting on borderlands 2 and i will murder ...</td>\n",
              "      <td>m get borderland 2 murder</td>\n",
              "    </tr>\n",
              "    <tr>\n",
              "      <th>4</th>\n",
              "      <td>2401</td>\n",
              "      <td>Borderlands</td>\n",
              "      <td>3</td>\n",
              "      <td>im getting into borderlands and i can murder y...</td>\n",
              "      <td>m get borderland murder</td>\n",
              "    </tr>\n",
              "  </tbody>\n",
              "</table>\n",
              "</div>"
            ],
            "text/plain": [
              "   Tweet ID       entity  target  \\\n",
              "0      2401  Borderlands       3   \n",
              "1      2401  Borderlands       3   \n",
              "2      2401  Borderlands       3   \n",
              "3      2401  Borderlands       3   \n",
              "4      2401  Borderlands       3   \n",
              "\n",
              "                                               Tweet  \\\n",
              "0  i am coming to the borders and i will kill you...   \n",
              "1  im getting on borderlands and i will kill you ...   \n",
              "2  im coming on borderlands and i will murder you...   \n",
              "3  im getting on borderlands 2 and i will murder ...   \n",
              "4  im getting into borderlands and i can murder y...   \n",
              "\n",
              "             stemmed_content  \n",
              "0           come border kill  \n",
              "1      m get borderland kill  \n",
              "2   m come borderland murder  \n",
              "3  m get borderland 2 murder  \n",
              "4    m get borderland murder  "
            ]
          },
          "execution_count": 13,
          "metadata": {},
          "output_type": "execute_result"
        }
      ],
      "source": [
        "from sklearn.preprocessing import LabelEncoder\n",
        "encoder=LabelEncoder()\n",
        "df['target']=encoder.fit_transform(df['target'])\n",
        "df.head()"
      ]
    },
    {
      "cell_type": "code",
      "execution_count": null,
      "id": "ef136c39",
      "metadata": {
        "execution": {
          "iopub.execute_input": "2024-04-27T19:11:25.385009Z",
          "iopub.status.busy": "2024-04-27T19:11:25.384486Z",
          "iopub.status.idle": "2024-04-27T19:11:25.392994Z",
          "shell.execute_reply": "2024-04-27T19:11:25.392195Z"
        },
        "papermill": {
          "duration": 0.019552,
          "end_time": "2024-04-27T19:11:25.395147",
          "exception": false,
          "start_time": "2024-04-27T19:11:25.375595",
          "status": "completed"
        },
        "tags": [],
        "id": "ef136c39",
        "outputId": "f396c1ea-0b14-4f41-80f5-23591964ef0e"
      },
      "outputs": [
        {
          "data": {
            "text/plain": [
              "target\n",
              "1    22542\n",
              "3    20831\n",
              "2    18318\n",
              "0    12990\n",
              "Name: count, dtype: int64"
            ]
          },
          "execution_count": 14,
          "metadata": {},
          "output_type": "execute_result"
        }
      ],
      "source": [
        "df['target'].value_counts()\n",
        "# 0-->Irrelevant\n",
        "# 1--> Negative\n",
        "# 2-->Positive\n",
        "# 3-->Neutral"
      ]
    },
    {
      "cell_type": "code",
      "execution_count": null,
      "id": "cf31094c",
      "metadata": {
        "execution": {
          "iopub.execute_input": "2024-04-27T19:11:25.413332Z",
          "iopub.status.busy": "2024-04-27T19:11:25.412830Z",
          "iopub.status.idle": "2024-04-27T19:11:25.453912Z",
          "shell.execute_reply": "2024-04-27T19:11:25.453147Z"
        },
        "papermill": {
          "duration": 0.052343,
          "end_time": "2024-04-27T19:11:25.455832",
          "exception": false,
          "start_time": "2024-04-27T19:11:25.403489",
          "status": "completed"
        },
        "tags": [],
        "id": "cf31094c"
      },
      "outputs": [],
      "source": [
        "X=df['stemmed_content']\n",
        "y=df['target']\n",
        "X_train,X_test,y_train,y_test=train_test_split(X,y,test_size=0.3,stratify=y,random_state=2)"
      ]
    },
    {
      "cell_type": "code",
      "execution_count": null,
      "id": "cf8ec401",
      "metadata": {
        "execution": {
          "iopub.execute_input": "2024-04-27T19:11:25.473884Z",
          "iopub.status.busy": "2024-04-27T19:11:25.473278Z",
          "iopub.status.idle": "2024-04-27T19:11:25.478106Z",
          "shell.execute_reply": "2024-04-27T19:11:25.477289Z"
        },
        "papermill": {
          "duration": 0.01598,
          "end_time": "2024-04-27T19:11:25.480228",
          "exception": false,
          "start_time": "2024-04-27T19:11:25.464248",
          "status": "completed"
        },
        "tags": [],
        "id": "cf8ec401",
        "outputId": "371aff5c-fdae-415a-cb29-26884b6e8318"
      },
      "outputs": [
        {
          "name": "stdout",
          "output_type": "stream",
          "text": [
            "(74681,) (52276,) (22405,) (74681,) (52276,) (22405,)\n"
          ]
        }
      ],
      "source": [
        "print(X.shape,X_train.shape,X_test.shape,y.shape,y_train.shape,y_test.shape)"
      ]
    },
    {
      "cell_type": "code",
      "execution_count": null,
      "id": "1fa425c3",
      "metadata": {
        "execution": {
          "iopub.execute_input": "2024-04-27T19:11:25.498233Z",
          "iopub.status.busy": "2024-04-27T19:11:25.497681Z",
          "iopub.status.idle": "2024-04-27T19:11:25.501512Z",
          "shell.execute_reply": "2024-04-27T19:11:25.500596Z"
        },
        "papermill": {
          "duration": 0.014784,
          "end_time": "2024-04-27T19:11:25.503402",
          "exception": false,
          "start_time": "2024-04-27T19:11:25.488618",
          "status": "completed"
        },
        "tags": [],
        "id": "1fa425c3"
      },
      "outputs": [],
      "source": [
        "vectorizer=TfidfVectorizer()"
      ]
    },
    {
      "cell_type": "code",
      "execution_count": null,
      "id": "97c695fc",
      "metadata": {
        "execution": {
          "iopub.execute_input": "2024-04-27T19:11:25.521634Z",
          "iopub.status.busy": "2024-04-27T19:11:25.521104Z",
          "iopub.status.idle": "2024-04-27T19:11:26.721755Z",
          "shell.execute_reply": "2024-04-27T19:11:26.720986Z"
        },
        "papermill": {
          "duration": 1.212298,
          "end_time": "2024-04-27T19:11:26.724070",
          "exception": false,
          "start_time": "2024-04-27T19:11:25.511772",
          "status": "completed"
        },
        "tags": [],
        "id": "97c695fc"
      },
      "outputs": [],
      "source": [
        "# Fit and transform the training data\n",
        "X_train = vectorizer.fit_transform(X_train)\n",
        "\n",
        "# Transform the test data using the same vectorizer\n",
        "X_test = vectorizer.transform(X_test)\n"
      ]
    },
    {
      "cell_type": "code",
      "execution_count": null,
      "id": "ad5654f9",
      "metadata": {
        "execution": {
          "iopub.execute_input": "2024-04-27T19:11:26.742652Z",
          "iopub.status.busy": "2024-04-27T19:11:26.741986Z",
          "iopub.status.idle": "2024-04-27T19:11:26.752294Z",
          "shell.execute_reply": "2024-04-27T19:11:26.751328Z"
        },
        "papermill": {
          "duration": 0.021615,
          "end_time": "2024-04-27T19:11:26.754260",
          "exception": false,
          "start_time": "2024-04-27T19:11:26.732645",
          "status": "completed"
        },
        "tags": [],
        "id": "ad5654f9",
        "outputId": "32ee3038-1c49-4515-fa51-2e424a124d59"
      },
      "outputs": [
        {
          "name": "stdout",
          "output_type": "stream",
          "text": [
            "  (0, 17739)\t0.2460513065432312\n",
            "  (0, 9838)\t0.2460513065432312\n",
            "  (0, 13474)\t0.20842146822772653\n",
            "  (0, 12275)\t0.23880538324650571\n",
            "  (0, 21124)\t0.18784871149964488\n",
            "  (0, 19310)\t0.12194856666751817\n",
            "  (0, 6446)\t0.16893241411145973\n",
            "  (0, 3684)\t0.18072746918797308\n",
            "  (0, 16467)\t0.2629834369600888\n",
            "  (0, 17306)\t0.1761337479722038\n",
            "  (0, 3097)\t0.11013735913245903\n",
            "  (0, 19027)\t0.21023177040398586\n",
            "  (0, 5553)\t0.21023177040398586\n",
            "  (0, 16254)\t0.2178937660691438\n",
            "  (0, 19789)\t0.22209170706069778\n",
            "  (0, 6866)\t0.20161308494076105\n",
            "  (0, 273)\t0.24228572906144175\n",
            "  (0, 22826)\t0.1514859931077614\n",
            "  (0, 4443)\t0.17110521445707502\n",
            "  (0, 20499)\t0.24228572906144175\n",
            "  (0, 19558)\t0.13654096588443382\n",
            "  (0, 17471)\t0.18603840932338558\n",
            "  (0, 4030)\t0.16963542379640112\n",
            "  (0, 13727)\t0.23614664519204945\n",
            "  (0, 5854)\t0.14665352551672525\n",
            "  :\t:\n",
            "  (52272, 16931)\t0.16431203356021346\n",
            "  (52273, 20946)\t0.46348653821333946\n",
            "  (52273, 7528)\t0.47941088898324136\n",
            "  (52273, 20437)\t0.44975924229837955\n",
            "  (52273, 9198)\t0.2944040116583137\n",
            "  (52273, 2950)\t0.4025779853521676\n",
            "  (52273, 19310)\t0.3229849780032838\n",
            "  (52274, 19096)\t0.4203138972653894\n",
            "  (52274, 14690)\t0.39747274521269815\n",
            "  (52274, 4316)\t0.3909402740145107\n",
            "  (52274, 15849)\t0.30396998662890906\n",
            "  (52274, 2640)\t0.2728819964569914\n",
            "  (52274, 21705)\t0.271234295924297\n",
            "  (52274, 18572)\t0.2896003068006481\n",
            "  (52274, 23961)\t0.23537953664879738\n",
            "  (52274, 8303)\t0.19210641655578267\n",
            "  (52274, 8936)\t0.28178180867554664\n",
            "  (52274, 5312)\t0.1284882863557613\n",
            "  (52275, 2663)\t0.5314449427388976\n",
            "  (52275, 3799)\t0.4994641897586123\n",
            "  (52275, 7142)\t0.4135968290423459\n",
            "  (52275, 21652)\t0.28531109362256\n",
            "  (52275, 24719)\t0.23744864583394862\n",
            "  (52275, 14775)\t0.29673367422483676\n",
            "  (52275, 2218)\t0.2668413499079376\n"
          ]
        }
      ],
      "source": [
        "print(X_train)"
      ]
    },
    {
      "cell_type": "code",
      "execution_count": null,
      "id": "304039f2",
      "metadata": {
        "execution": {
          "iopub.execute_input": "2024-04-27T19:11:26.772604Z",
          "iopub.status.busy": "2024-04-27T19:11:26.772045Z",
          "iopub.status.idle": "2024-04-27T19:11:26.847110Z",
          "shell.execute_reply": "2024-04-27T19:11:26.846326Z"
        },
        "papermill": {
          "duration": 0.086562,
          "end_time": "2024-04-27T19:11:26.849306",
          "exception": false,
          "start_time": "2024-04-27T19:11:26.762744",
          "status": "completed"
        },
        "tags": [],
        "id": "304039f2"
      },
      "outputs": [],
      "source": [
        "from sklearn.tree import DecisionTreeClassifier\n",
        "# Create a Decision Tree classifier object\n",
        "model = DecisionTreeClassifier()"
      ]
    },
    {
      "cell_type": "code",
      "execution_count": null,
      "id": "f00184dc",
      "metadata": {
        "execution": {
          "iopub.execute_input": "2024-04-27T19:11:26.867832Z",
          "iopub.status.busy": "2024-04-27T19:11:26.867510Z",
          "iopub.status.idle": "2024-04-27T19:11:44.790185Z",
          "shell.execute_reply": "2024-04-27T19:11:44.789128Z"
        },
        "papermill": {
          "duration": 17.934311,
          "end_time": "2024-04-27T19:11:44.792416",
          "exception": false,
          "start_time": "2024-04-27T19:11:26.858105",
          "status": "completed"
        },
        "tags": [],
        "id": "f00184dc",
        "outputId": "fe861a1e-3005-4b88-e68e-896bb267d561"
      },
      "outputs": [
        {
          "data": {
            "text/html": [
              "<style>#sk-container-id-1 {color: black;background-color: white;}#sk-container-id-1 pre{padding: 0;}#sk-container-id-1 div.sk-toggleable {background-color: white;}#sk-container-id-1 label.sk-toggleable__label {cursor: pointer;display: block;width: 100%;margin-bottom: 0;padding: 0.3em;box-sizing: border-box;text-align: center;}#sk-container-id-1 label.sk-toggleable__label-arrow:before {content: \"▸\";float: left;margin-right: 0.25em;color: #696969;}#sk-container-id-1 label.sk-toggleable__label-arrow:hover:before {color: black;}#sk-container-id-1 div.sk-estimator:hover label.sk-toggleable__label-arrow:before {color: black;}#sk-container-id-1 div.sk-toggleable__content {max-height: 0;max-width: 0;overflow: hidden;text-align: left;background-color: #f0f8ff;}#sk-container-id-1 div.sk-toggleable__content pre {margin: 0.2em;color: black;border-radius: 0.25em;background-color: #f0f8ff;}#sk-container-id-1 input.sk-toggleable__control:checked~div.sk-toggleable__content {max-height: 200px;max-width: 100%;overflow: auto;}#sk-container-id-1 input.sk-toggleable__control:checked~label.sk-toggleable__label-arrow:before {content: \"▾\";}#sk-container-id-1 div.sk-estimator input.sk-toggleable__control:checked~label.sk-toggleable__label {background-color: #d4ebff;}#sk-container-id-1 div.sk-label input.sk-toggleable__control:checked~label.sk-toggleable__label {background-color: #d4ebff;}#sk-container-id-1 input.sk-hidden--visually {border: 0;clip: rect(1px 1px 1px 1px);clip: rect(1px, 1px, 1px, 1px);height: 1px;margin: -1px;overflow: hidden;padding: 0;position: absolute;width: 1px;}#sk-container-id-1 div.sk-estimator {font-family: monospace;background-color: #f0f8ff;border: 1px dotted black;border-radius: 0.25em;box-sizing: border-box;margin-bottom: 0.5em;}#sk-container-id-1 div.sk-estimator:hover {background-color: #d4ebff;}#sk-container-id-1 div.sk-parallel-item::after {content: \"\";width: 100%;border-bottom: 1px solid gray;flex-grow: 1;}#sk-container-id-1 div.sk-label:hover label.sk-toggleable__label {background-color: #d4ebff;}#sk-container-id-1 div.sk-serial::before {content: \"\";position: absolute;border-left: 1px solid gray;box-sizing: border-box;top: 0;bottom: 0;left: 50%;z-index: 0;}#sk-container-id-1 div.sk-serial {display: flex;flex-direction: column;align-items: center;background-color: white;padding-right: 0.2em;padding-left: 0.2em;position: relative;}#sk-container-id-1 div.sk-item {position: relative;z-index: 1;}#sk-container-id-1 div.sk-parallel {display: flex;align-items: stretch;justify-content: center;background-color: white;position: relative;}#sk-container-id-1 div.sk-item::before, #sk-container-id-1 div.sk-parallel-item::before {content: \"\";position: absolute;border-left: 1px solid gray;box-sizing: border-box;top: 0;bottom: 0;left: 50%;z-index: -1;}#sk-container-id-1 div.sk-parallel-item {display: flex;flex-direction: column;z-index: 1;position: relative;background-color: white;}#sk-container-id-1 div.sk-parallel-item:first-child::after {align-self: flex-end;width: 50%;}#sk-container-id-1 div.sk-parallel-item:last-child::after {align-self: flex-start;width: 50%;}#sk-container-id-1 div.sk-parallel-item:only-child::after {width: 0;}#sk-container-id-1 div.sk-dashed-wrapped {border: 1px dashed gray;margin: 0 0.4em 0.5em 0.4em;box-sizing: border-box;padding-bottom: 0.4em;background-color: white;}#sk-container-id-1 div.sk-label label {font-family: monospace;font-weight: bold;display: inline-block;line-height: 1.2em;}#sk-container-id-1 div.sk-label-container {text-align: center;}#sk-container-id-1 div.sk-container {/* jupyter's `normalize.less` sets `[hidden] { display: none; }` but bootstrap.min.css set `[hidden] { display: none !important; }` so we also need the `!important` here to be able to override the default hidden behavior on the sphinx rendered scikit-learn.org. See: https://github.com/scikit-learn/scikit-learn/issues/21755 */display: inline-block !important;position: relative;}#sk-container-id-1 div.sk-text-repr-fallback {display: none;}</style><div id=\"sk-container-id-1\" class=\"sk-top-container\"><div class=\"sk-text-repr-fallback\"><pre>DecisionTreeClassifier()</pre><b>In a Jupyter environment, please rerun this cell to show the HTML representation or trust the notebook. <br />On GitHub, the HTML representation is unable to render, please try loading this page with nbviewer.org.</b></div><div class=\"sk-container\" hidden><div class=\"sk-item\"><div class=\"sk-estimator sk-toggleable\"><input class=\"sk-toggleable__control sk-hidden--visually\" id=\"sk-estimator-id-1\" type=\"checkbox\" checked><label for=\"sk-estimator-id-1\" class=\"sk-toggleable__label sk-toggleable__label-arrow\">DecisionTreeClassifier</label><div class=\"sk-toggleable__content\"><pre>DecisionTreeClassifier()</pre></div></div></div></div></div>"
            ],
            "text/plain": [
              "DecisionTreeClassifier()"
            ]
          },
          "execution_count": 21,
          "metadata": {},
          "output_type": "execute_result"
        }
      ],
      "source": [
        "model.fit(X_train,y_train)"
      ]
    },
    {
      "cell_type": "code",
      "execution_count": null,
      "id": "aed46e96",
      "metadata": {
        "execution": {
          "iopub.execute_input": "2024-04-27T19:11:44.811840Z",
          "iopub.status.busy": "2024-04-27T19:11:44.811513Z",
          "iopub.status.idle": "2024-04-27T19:11:44.838377Z",
          "shell.execute_reply": "2024-04-27T19:11:44.837470Z"
        },
        "papermill": {
          "duration": 0.038319,
          "end_time": "2024-04-27T19:11:44.840263",
          "exception": false,
          "start_time": "2024-04-27T19:11:44.801944",
          "status": "completed"
        },
        "tags": [],
        "id": "aed46e96",
        "outputId": "d6c8c250-fc94-443f-93c4-c6babc5d81b1"
      },
      "outputs": [
        {
          "name": "stdout",
          "output_type": "stream",
          "text": [
            "0.7839767908948896\n"
          ]
        }
      ],
      "source": [
        "X_test_predict=model.predict(X_test)\n",
        "X_test_acc=accuracy_score(y_test,X_test_predict)\n",
        "print(X_test_acc)"
      ]
    },
    {
      "cell_type": "code",
      "execution_count": null,
      "id": "c13c9489",
      "metadata": {
        "execution": {
          "iopub.execute_input": "2024-04-27T19:11:44.859339Z",
          "iopub.status.busy": "2024-04-27T19:11:44.859057Z",
          "iopub.status.idle": "2024-04-27T19:11:44.864724Z",
          "shell.execute_reply": "2024-04-27T19:11:44.863927Z"
        },
        "papermill": {
          "duration": 0.017512,
          "end_time": "2024-04-27T19:11:44.866742",
          "exception": false,
          "start_time": "2024-04-27T19:11:44.849230",
          "status": "completed"
        },
        "tags": [],
        "id": "c13c9489",
        "outputId": "e78e6b00-308b-40d6-a890-be09b3ffe603"
      },
      "outputs": [
        {
          "data": {
            "text/plain": [
              "array([0, 3, 3, ..., 3, 0, 2])"
            ]
          },
          "execution_count": 23,
          "metadata": {},
          "output_type": "execute_result"
        }
      ],
      "source": [
        "X_test_predict"
      ]
    }
  ],
  "metadata": {
    "kaggle": {
      "accelerator": "gpu",
      "dataSources": [
        {
          "datasetId": 1520310,
          "sourceId": 2510329,
          "sourceType": "datasetVersion"
        }
      ],
      "dockerImageVersionId": 30698,
      "isGpuEnabled": true,
      "isInternetEnabled": true,
      "language": "python",
      "sourceType": "notebook"
    },
    "kernelspec": {
      "display_name": "Python 3",
      "language": "python",
      "name": "python3"
    },
    "language_info": {
      "codemirror_mode": {
        "name": "ipython",
        "version": 3
      },
      "file_extension": ".py",
      "mimetype": "text/x-python",
      "name": "python",
      "nbconvert_exporter": "python",
      "pygments_lexer": "ipython3",
      "version": "3.10.13"
    },
    "papermill": {
      "default_parameters": {},
      "duration": 600.947728,
      "end_time": "2024-04-27T19:11:46.517635",
      "environment_variables": {},
      "exception": null,
      "input_path": "__notebook__.ipynb",
      "output_path": "__notebook__.ipynb",
      "parameters": {},
      "start_time": "2024-04-27T19:01:45.569907",
      "version": "2.5.0"
    },
    "colab": {
      "provenance": []
    }
  },
  "nbformat": 4,
  "nbformat_minor": 5
}